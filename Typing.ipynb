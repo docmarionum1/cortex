{
 "cells": [
  {
   "cell_type": "code",
   "execution_count": 1,
   "metadata": {
    "collapsed": false
   },
   "outputs": [
    {
     "name": "stdout",
     "output_type": "stream",
     "text": [
      "Populating the interactive namespace from numpy and matplotlib\n"
     ]
    }
   ],
   "source": [
    "# Display plots in the notebook\n",
    "%pylab inline"
   ]
  },
  {
   "cell_type": "code",
   "execution_count": 121,
   "metadata": {
    "collapsed": true
   },
   "outputs": [],
   "source": [
    "import pylab as pl\n",
    "import pandas as pd\n",
    "import statsmodels.formula.api as smf\n",
    "from statsmodels.graphics.api import abline_plot\n",
    "from matplotlib import cm\n",
    "\n",
    "# Make plots prettyful\n",
    "pl.style.use('fivethirtyeight')"
   ]
  },
  {
   "cell_type": "markdown",
   "metadata": {},
   "source": [
    "What is your age?Do you know how to touch-type on a physical keyboard?,Did you learn / Are you learning to touch-type in school?,\"If you do not know how to touch-type, do you plan to learn?\",Did/Does your school offer typing lessons?,Do you care about having the ability to touch-type?,Can you type on a touchscreen keyboard without looking?"
   ]
  },
  {
   "cell_type": "code",
   "execution_count": 54,
   "metadata": {
    "collapsed": true
   },
   "outputs": [],
   "source": [
    "def convert(val):\n",
    "    if val == 'No':\n",
    "        return 0\n",
    "    elif val == 'Yes':\n",
    "        return 1\n",
    "    else:\n",
    "        return float('nan')"
   ]
  },
  {
   "cell_type": "code",
   "execution_count": 55,
   "metadata": {
    "collapsed": false
   },
   "outputs": [],
   "source": [
    "csv = pd.read_csv('typing.csv')\n",
    "\n",
    "csv['agestart'] = csv.age.str.split('-').str.get(0).str.strip()\n",
    "csv['agestart'][csv['agestart'] == '60+'] = '60'\n",
    "csv['agestart'] = csv['agestart'].astype(float)\n",
    "\n",
    "for col in ['physical', 'school', 'plantolearn', 'lessons', 'care', 'touchscreen']:\n",
    "    csv[col] = csv.apply(lambda x: convert(x[col]), axis=1)"
   ]
  },
  {
   "cell_type": "code",
   "execution_count": 56,
   "metadata": {
    "collapsed": false
   },
   "outputs": [
    {
     "data": {
      "text/html": [
       "<div>\n",
       "<table border=\"1\" class=\"dataframe\">\n",
       "  <thead>\n",
       "    <tr style=\"text-align: right;\">\n",
       "      <th></th>\n",
       "      <th>age</th>\n",
       "      <th>physical</th>\n",
       "      <th>school</th>\n",
       "      <th>plantolearn</th>\n",
       "      <th>lessons</th>\n",
       "      <th>care</th>\n",
       "      <th>touchscreen</th>\n",
       "      <th>agestart</th>\n",
       "    </tr>\n",
       "  </thead>\n",
       "  <tbody>\n",
       "    <tr>\n",
       "      <th>0</th>\n",
       "      <td>22 - 30</td>\n",
       "      <td>0.0</td>\n",
       "      <td>0.0</td>\n",
       "      <td>0.0</td>\n",
       "      <td>0.0</td>\n",
       "      <td>0.0</td>\n",
       "      <td>1.0</td>\n",
       "      <td>22.0</td>\n",
       "    </tr>\n",
       "    <tr>\n",
       "      <th>1</th>\n",
       "      <td>22 - 30</td>\n",
       "      <td>1.0</td>\n",
       "      <td>0.0</td>\n",
       "      <td>0.0</td>\n",
       "      <td>1.0</td>\n",
       "      <td>1.0</td>\n",
       "      <td>1.0</td>\n",
       "      <td>22.0</td>\n",
       "    </tr>\n",
       "    <tr>\n",
       "      <th>2</th>\n",
       "      <td>31 - 40</td>\n",
       "      <td>1.0</td>\n",
       "      <td>1.0</td>\n",
       "      <td>NaN</td>\n",
       "      <td>1.0</td>\n",
       "      <td>1.0</td>\n",
       "      <td>1.0</td>\n",
       "      <td>31.0</td>\n",
       "    </tr>\n",
       "    <tr>\n",
       "      <th>3</th>\n",
       "      <td>31 - 40</td>\n",
       "      <td>1.0</td>\n",
       "      <td>0.0</td>\n",
       "      <td>NaN</td>\n",
       "      <td>1.0</td>\n",
       "      <td>1.0</td>\n",
       "      <td>1.0</td>\n",
       "      <td>31.0</td>\n",
       "    </tr>\n",
       "    <tr>\n",
       "      <th>4</th>\n",
       "      <td>22 - 30</td>\n",
       "      <td>1.0</td>\n",
       "      <td>0.0</td>\n",
       "      <td>NaN</td>\n",
       "      <td>0.0</td>\n",
       "      <td>1.0</td>\n",
       "      <td>0.0</td>\n",
       "      <td>22.0</td>\n",
       "    </tr>\n",
       "  </tbody>\n",
       "</table>\n",
       "</div>"
      ],
      "text/plain": [
       "       age  physical  school  plantolearn  lessons  care  touchscreen  \\\n",
       "0  22 - 30       0.0     0.0          0.0      0.0   0.0          1.0   \n",
       "1  22 - 30       1.0     0.0          0.0      1.0   1.0          1.0   \n",
       "2  31 - 40       1.0     1.0          NaN      1.0   1.0          1.0   \n",
       "3  31 - 40       1.0     0.0          NaN      1.0   1.0          1.0   \n",
       "4  22 - 30       1.0     0.0          NaN      0.0   1.0          0.0   \n",
       "\n",
       "   agestart  \n",
       "0      22.0  \n",
       "1      22.0  \n",
       "2      31.0  \n",
       "3      31.0  \n",
       "4      22.0  "
      ]
     },
     "execution_count": 56,
     "metadata": {},
     "output_type": "execute_result"
    }
   ],
   "source": [
    "csv.head()"
   ]
  },
  {
   "cell_type": "code",
   "execution_count": 59,
   "metadata": {
    "collapsed": false
   },
   "outputs": [
    {
     "name": "stdout",
     "output_type": "stream",
     "text": [
      "                            OLS Regression Results                            \n",
      "==============================================================================\n",
      "Dep. Variable:            touchscreen   R-squared:                       0.053\n",
      "Model:                            OLS   Adj. R-squared:                  0.050\n",
      "Method:                 Least Squares   F-statistic:                     15.89\n",
      "Date:                Wed, 18 May 2016   Prob (F-statistic):           2.01e-20\n",
      "Time:                        10:23:49   Log-Likelihood:                -1393.5\n",
      "No. Observations:                1995   AIC:                             2803.\n",
      "Df Residuals:                    1987   BIC:                             2848.\n",
      "Df Model:                           7                                         \n",
      "Covariance Type:            nonrobust                                         \n",
      "=======================================================================================\n",
      "                          coef    std err          t      P>|t|      [95.0% Conf. Int.]\n",
      "---------------------------------------------------------------------------------------\n",
      "Intercept               0.5069      0.037     13.786      0.000         0.435     0.579\n",
      "C(physical)[T.1.0]      0.0723      0.024      2.963      0.003         0.024     0.120\n",
      "C(agestart)[T.17.0]     0.0399      0.039      1.027      0.305        -0.036     0.116\n",
      "C(agestart)[T.22.0]    -0.0621      0.038     -1.643      0.101        -0.136     0.012\n",
      "C(agestart)[T.31.0]    -0.2462      0.045     -5.478      0.000        -0.334    -0.158\n",
      "C(agestart)[T.41.0]    -0.3174      0.066     -4.816      0.000        -0.447    -0.188\n",
      "C(agestart)[T.51.0]    -0.5035      0.120     -4.206      0.000        -0.738    -0.269\n",
      "C(agestart)[T.60.0]    -0.5647      0.221     -2.560      0.011        -0.997    -0.132\n",
      "==============================================================================\n",
      "Omnibus:                        0.113   Durbin-Watson:                   1.948\n",
      "Prob(Omnibus):                  0.945   Jarque-Bera (JB):              274.518\n",
      "Skew:                          -0.018   Prob(JB):                     2.45e-60\n",
      "Kurtosis:                       1.183   Cond. No.                         27.6\n",
      "==============================================================================\n",
      "\n",
      "Warnings:\n",
      "[1] Standard Errors assume that the covariance matrix of the errors is correctly specified.\n"
     ]
    }
   ],
   "source": [
    "mod = smf.ols(formula='touchscreen ~ C(physical) + C(agestart)', data = csv).fit()\n",
    "print(mod.summary())"
   ]
  },
  {
   "cell_type": "code",
   "execution_count": 53,
   "metadata": {
    "collapsed": false
   },
   "outputs": [
    {
     "data": {
      "text/plain": [
       "(2000,)"
      ]
     },
     "execution_count": 53,
     "metadata": {},
     "output_type": "execute_result"
    }
   ],
   "source": [
    "csv['physical'].shape"
   ]
  },
  {
   "cell_type": "code",
   "execution_count": 68,
   "metadata": {
    "collapsed": false
   },
   "outputs": [
    {
     "name": "stdout",
     "output_type": "stream",
     "text": [
      "                            OLS Regression Results                            \n",
      "==============================================================================\n",
      "Dep. Variable:               physical   R-squared:                       0.249\n",
      "Model:                            OLS   Adj. R-squared:                  0.247\n",
      "Method:                 Least Squares   F-statistic:                     163.4\n",
      "Date:                Wed, 18 May 2016   Prob (F-statistic):          6.07e-121\n",
      "Time:                        10:29:43   Log-Likelihood:                -960.68\n",
      "No. Observations:                1980   AIC:                             1931.\n",
      "Df Residuals:                    1975   BIC:                             1959.\n",
      "Df Model:                           4                                         \n",
      "Covariance Type:            nonrobust                                         \n",
      "=====================================================================================\n",
      "                        coef    std err          t      P>|t|      [95.0% Conf. Int.]\n",
      "-------------------------------------------------------------------------------------\n",
      "Intercept             0.2208      0.026      8.414      0.000         0.169     0.272\n",
      "C(lessons)[T.1.0]     0.0614      0.024      2.580      0.010         0.015     0.108\n",
      "C(school)[T.1.0]      0.1729      0.024      7.194      0.000         0.126     0.220\n",
      "C(care)[T.1.0]        0.4324      0.021     20.168      0.000         0.390     0.474\n",
      "agestart              0.0023      0.001      2.499      0.013         0.001     0.004\n",
      "==============================================================================\n",
      "Omnibus:                      115.453   Durbin-Watson:                   1.988\n",
      "Prob(Omnibus):                  0.000   Jarque-Bera (JB):              132.426\n",
      "Skew:                          -0.622   Prob(JB):                     1.75e-29\n",
      "Kurtosis:                       2.758   Cond. No.                         80.8\n",
      "==============================================================================\n",
      "\n",
      "Warnings:\n",
      "[1] Standard Errors assume that the covariance matrix of the errors is correctly specified.\n"
     ]
    }
   ],
   "source": [
    "mod = smf.ols(formula='physical ~ C(lessons) + C(school) + C(care) + agestart', data = csv).fit()\n",
    "print(mod.summary())"
   ]
  },
  {
   "cell_type": "code",
   "execution_count": 66,
   "metadata": {
    "collapsed": false
   },
   "outputs": [
    {
     "data": {
      "text/plain": [
       "0.4954954954954955"
      ]
     },
     "execution_count": 66,
     "metadata": {},
     "output_type": "execute_result"
    }
   ],
   "source": [
    "csv['touchscreen'].mean()"
   ]
  },
  {
   "cell_type": "code",
   "execution_count": 90,
   "metadata": {
    "collapsed": false
   },
   "outputs": [],
   "source": [
    "bars = []\n",
    "\n",
    "bars.append(('Cares', csv[csv['care'] == 1].mean()['physical']))\n",
    "bars.append(('Doesn\\'t Care', csv[csv['care'] == 0].mean()['physical']))\n",
    "\n",
    "bars.append(('School Offered Lessons', csv[csv['lessons'] == 1].mean()['physical']))\n",
    "bars.append(('School Didn\\'t Offer Lessons', csv[csv['lessons'] == 0].mean()['physical']))\n",
    "\n",
    "bars.append(('Care + Lessons', csv[(csv['care'] == 1) & (csv['lessons'] == 1)].mean()['physical']))\n",
    "bars.append(('!Care + Lessons', csv[(csv['care'] == 0) & (csv['lessons'] == 1)].mean()['physical']))\n",
    "bars.append(('Care + !Lessons', csv[(csv['care'] == 1) & (csv['lessons'] == 0)].mean()['physical']))"
   ]
  },
  {
   "cell_type": "code",
   "execution_count": 96,
   "metadata": {
    "collapsed": false
   },
   "outputs": [
    {
     "data": {
      "text/plain": [
       "[(\"Doesn't Care\", 0.34606741573033706),\n",
       " ('!Care + Lessons', 0.39378238341968913),\n",
       " (\"School Didn't Offer Lessons\", 0.60388945752302969),\n",
       " ('Care + !Lessons', 0.70718232044198892),\n",
       " ('School Offered Lessons', 0.81411530815109345),\n",
       " ('Cares', 0.81624758220502902),\n",
       " ('Care + Lessons', 0.91379310344827591)]"
      ]
     },
     "execution_count": 96,
     "metadata": {},
     "output_type": "execute_result"
    }
   ],
   "source": [
    "bars.sort(key=lambda x: x[1])\n",
    "bars"
   ]
  },
  {
   "cell_type": "code",
   "execution_count": 132,
   "metadata": {
    "collapsed": false
   },
   "outputs": [
    {
     "data": {
      "text/plain": [
       "<matplotlib.text.Text at 0x1d3e911fb00>"
      ]
     },
     "execution_count": 132,
     "metadata": {},
     "output_type": "execute_result"
    },
    {
     "data": {
      "image/png": "[encoded data removed]",
      "text/plain": [
       "<matplotlib.figure.Figure at 0x1d3e90a0198>"
      ]
     },
     "metadata": {},
     "output_type": "display_data"
    }
   ],
   "source": [
    "width = .9\n",
    "figure, ax = pl.subplots(figsize=(15,15))\n",
    "values = [i[1]*100 for i in bars]\n",
    "ax.bar(range(len(bars)), values, width, color=[cm.winter(i/100) for i in values], align='center')\n",
    "\n",
    "ax.set_xticks(np.arange(len(bars)))\n",
    "ax.set_xticklabels([i[0] for i in bars],  rotation=300)\n",
    "\n",
    "ax.set_xlabel('Subset')\n",
    "ax.set_ylabel('Percentage of People who can Touchtype')\n",
    "ax.set_title('Percentage of People who can Touchtype by Subset')"
   ]
  },
  {
   "cell_type": "code",
   "execution_count": null,
   "metadata": {
    "collapsed": true
   },
   "outputs": [],
   "source": []
  }
 ],
 "metadata": {
  "kernelspec": {
   "display_name": "Python 3",
   "language": "python",
   "name": "python3"
  },
  "language_info": {
   "codemirror_mode": {
    "name": "ipython",
    "version": 3
   },
   "file_extension": ".py",
   "mimetype": "text/x-python",
   "name": "python",
   "nbconvert_exporter": "python",
   "pygments_lexer": "ipython3",
   "version": "3.5.1"
  }
 },
 "nbformat": 4,
 "nbformat_minor": 0
}
